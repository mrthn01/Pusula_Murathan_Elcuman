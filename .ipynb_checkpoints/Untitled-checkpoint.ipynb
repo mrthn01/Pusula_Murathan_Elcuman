{
 "cells": [
  {
   "cell_type": "markdown",
   "id": "10bcf663-e2df-4ed2-93c0-5c775fb3a2ab",
   "metadata": {},
   "source": [
    "# **Pusula Case Study**"
   ]
  },
  {
   "cell_type": "markdown",
   "id": "5f4ebf47-94d8-4aed-bc9d-5da2b67f0a31",
   "metadata": {},
   "source": [
    "# **Import Libraries**"
   ]
  },
  {
   "cell_type": "code",
   "execution_count": 6,
   "id": "562bf462-4e50-47bb-bfc1-141e57f7744c",
   "metadata": {},
   "outputs": [],
   "source": [
    "import pandas as pd\n",
    "import numpy as np\n",
    "import matplotlib.pyplot as plt\n",
    "import seaborn as sns"
   ]
  },
  {
   "cell_type": "markdown",
   "id": "f6447edc-320b-4425-879e-2290ad5e5401",
   "metadata": {},
   "source": [
    "# **Read Dataset**"
   ]
  },
  {
   "cell_type": "code",
   "execution_count": 157,
   "id": "2e534617-a74d-4421-a52d-9d9af211ecb5",
   "metadata": {},
   "outputs": [],
   "source": [
    "df = pd.read_excel('./data/dataset.xlsx')"
   ]
  },
  {
   "cell_type": "code",
   "execution_count": 10,
   "id": "c3f9e0e5-ea23-4d0c-b702-2826d515f7d4",
   "metadata": {},
   "outputs": [
    {
     "data": {
      "text/html": [
       "<div>\n",
       "<style scoped>\n",
       "    .dataframe tbody tr th:only-of-type {\n",
       "        vertical-align: middle;\n",
       "    }\n",
       "\n",
       "    .dataframe tbody tr th {\n",
       "        vertical-align: top;\n",
       "    }\n",
       "\n",
       "    .dataframe thead th {\n",
       "        text-align: right;\n",
       "    }\n",
       "</style>\n",
       "<table border=\"1\" class=\"dataframe\">\n",
       "  <thead>\n",
       "    <tr style=\"text-align: right;\">\n",
       "      <th></th>\n",
       "      <th>HastaNo</th>\n",
       "      <th>Yas</th>\n",
       "      <th>Cinsiyet</th>\n",
       "      <th>KanGrubu</th>\n",
       "      <th>Uyruk</th>\n",
       "      <th>KronikHastalik</th>\n",
       "      <th>Bolum</th>\n",
       "      <th>Alerji</th>\n",
       "      <th>Tanilar</th>\n",
       "      <th>TedaviAdi</th>\n",
       "      <th>TedaviSuresi</th>\n",
       "      <th>UygulamaYerleri</th>\n",
       "      <th>UygulamaSuresi</th>\n",
       "    </tr>\n",
       "  </thead>\n",
       "  <tbody>\n",
       "    <tr>\n",
       "      <th>0</th>\n",
       "      <td>145134</td>\n",
       "      <td>60</td>\n",
       "      <td>Kadın</td>\n",
       "      <td>0 Rh+</td>\n",
       "      <td>Türkiye</td>\n",
       "      <td>Becker Musküler Distrofisi, Hiportiroidizm, Ka...</td>\n",
       "      <td>Fiziksel Tıp Ve Rehabilitasyon,Solunum Merkezi</td>\n",
       "      <td>TOZ</td>\n",
       "      <td>Ayak bileği ve ayağın yüzeysel yaralanması</td>\n",
       "      <td>Ayak Bileği</td>\n",
       "      <td>5 Seans</td>\n",
       "      <td>Ayak Bileği</td>\n",
       "      <td>20 Dakika</td>\n",
       "    </tr>\n",
       "    <tr>\n",
       "      <th>1</th>\n",
       "      <td>145135</td>\n",
       "      <td>28</td>\n",
       "      <td>Erkek</td>\n",
       "      <td>0 Rh+</td>\n",
       "      <td>Türkiye</td>\n",
       "      <td>Duchenne Musküler Distrofisi, Myastenia gravis...</td>\n",
       "      <td>Fiziksel Tıp Ve Rehabilitasyon,Solunum Merkezi</td>\n",
       "      <td>NaN</td>\n",
       "      <td>Omuzun darbe sendromu,DORSALJİ, DİĞER, SERVİKO...</td>\n",
       "      <td>Dorsalji -Boyun+trapez+skapular</td>\n",
       "      <td>15 Seans</td>\n",
       "      <td>Boyun</td>\n",
       "      <td>20 Dakika</td>\n",
       "    </tr>\n",
       "    <tr>\n",
       "      <th>2</th>\n",
       "      <td>145135</td>\n",
       "      <td>28</td>\n",
       "      <td>Erkek</td>\n",
       "      <td>0 Rh+</td>\n",
       "      <td>Türkiye</td>\n",
       "      <td>Duchenne Musküler Distrofisi, Myastenia gravis...</td>\n",
       "      <td>Fiziksel Tıp Ve Rehabilitasyon,Solunum Merkezi</td>\n",
       "      <td>NaN</td>\n",
       "      <td>Omuzun darbe sendromu,DORSALJİ, DİĞER, SERVİKO...</td>\n",
       "      <td>Dorsalji -Boyun+trapez+skapular</td>\n",
       "      <td>15 Seans</td>\n",
       "      <td>Boyun,Sırt</td>\n",
       "      <td>20 Dakika</td>\n",
       "    </tr>\n",
       "    <tr>\n",
       "      <th>3</th>\n",
       "      <td>145135</td>\n",
       "      <td>28</td>\n",
       "      <td>Erkek</td>\n",
       "      <td>0 Rh+</td>\n",
       "      <td>Türkiye</td>\n",
       "      <td>Duchenne Musküler Distrofisi, Myastenia gravis...</td>\n",
       "      <td>Fiziksel Tıp Ve Rehabilitasyon,Solunum Merkezi</td>\n",
       "      <td>NaN</td>\n",
       "      <td>Omuzun darbe sendromu,DORSALJİ, DİĞER, SERVİKO...</td>\n",
       "      <td>Dorsalji -Boyun+trapez+skapular</td>\n",
       "      <td>15 Seans</td>\n",
       "      <td>Boyun</td>\n",
       "      <td>5 Dakika</td>\n",
       "    </tr>\n",
       "    <tr>\n",
       "      <th>4</th>\n",
       "      <td>145135</td>\n",
       "      <td>28</td>\n",
       "      <td>Erkek</td>\n",
       "      <td>0 Rh+</td>\n",
       "      <td>Türkiye</td>\n",
       "      <td>Duchenne Musküler Distrofisi, Myastenia gravis...</td>\n",
       "      <td>Fiziksel Tıp Ve Rehabilitasyon,Solunum Merkezi</td>\n",
       "      <td>NaN</td>\n",
       "      <td>Omuzun darbe sendromu,DORSALJİ, DİĞER, SERVİKO...</td>\n",
       "      <td>Dorsalji -Boyun+trapez+skapular</td>\n",
       "      <td>15 Seans</td>\n",
       "      <td>Boyun,Sırt</td>\n",
       "      <td>20 Dakika</td>\n",
       "    </tr>\n",
       "  </tbody>\n",
       "</table>\n",
       "</div>"
      ],
      "text/plain": [
       "   HastaNo  Yas Cinsiyet KanGrubu    Uyruk  \\\n",
       "0   145134   60    Kadın    0 Rh+  Türkiye   \n",
       "1   145135   28    Erkek    0 Rh+  Türkiye   \n",
       "2   145135   28    Erkek    0 Rh+  Türkiye   \n",
       "3   145135   28    Erkek    0 Rh+  Türkiye   \n",
       "4   145135   28    Erkek    0 Rh+  Türkiye   \n",
       "\n",
       "                                      KronikHastalik  \\\n",
       "0  Becker Musküler Distrofisi, Hiportiroidizm, Ka...   \n",
       "1  Duchenne Musküler Distrofisi, Myastenia gravis...   \n",
       "2  Duchenne Musküler Distrofisi, Myastenia gravis...   \n",
       "3  Duchenne Musküler Distrofisi, Myastenia gravis...   \n",
       "4  Duchenne Musküler Distrofisi, Myastenia gravis...   \n",
       "\n",
       "                                            Bolum Alerji  \\\n",
       "0  Fiziksel Tıp Ve Rehabilitasyon,Solunum Merkezi    TOZ   \n",
       "1  Fiziksel Tıp Ve Rehabilitasyon,Solunum Merkezi    NaN   \n",
       "2  Fiziksel Tıp Ve Rehabilitasyon,Solunum Merkezi    NaN   \n",
       "3  Fiziksel Tıp Ve Rehabilitasyon,Solunum Merkezi    NaN   \n",
       "4  Fiziksel Tıp Ve Rehabilitasyon,Solunum Merkezi    NaN   \n",
       "\n",
       "                                             Tanilar  \\\n",
       "0         Ayak bileği ve ayağın yüzeysel yaralanması   \n",
       "1  Omuzun darbe sendromu,DORSALJİ, DİĞER, SERVİKO...   \n",
       "2  Omuzun darbe sendromu,DORSALJİ, DİĞER, SERVİKO...   \n",
       "3  Omuzun darbe sendromu,DORSALJİ, DİĞER, SERVİKO...   \n",
       "4  Omuzun darbe sendromu,DORSALJİ, DİĞER, SERVİKO...   \n",
       "\n",
       "                         TedaviAdi TedaviSuresi UygulamaYerleri UygulamaSuresi  \n",
       "0                      Ayak Bileği      5 Seans     Ayak Bileği      20 Dakika  \n",
       "1  Dorsalji -Boyun+trapez+skapular     15 Seans           Boyun      20 Dakika  \n",
       "2  Dorsalji -Boyun+trapez+skapular     15 Seans      Boyun,Sırt      20 Dakika  \n",
       "3  Dorsalji -Boyun+trapez+skapular     15 Seans           Boyun       5 Dakika  \n",
       "4  Dorsalji -Boyun+trapez+skapular     15 Seans      Boyun,Sırt      20 Dakika  "
      ]
     },
     "execution_count": 10,
     "metadata": {},
     "output_type": "execute_result"
    }
   ],
   "source": [
    "# First 5 rows\n",
    "df.head()"
   ]
  },
  {
   "cell_type": "code",
   "execution_count": 12,
   "id": "8beb1c76-7522-44f8-a7bc-cf86679046a1",
   "metadata": {},
   "outputs": [
    {
     "data": {
      "text/html": [
       "<div>\n",
       "<style scoped>\n",
       "    .dataframe tbody tr th:only-of-type {\n",
       "        vertical-align: middle;\n",
       "    }\n",
       "\n",
       "    .dataframe tbody tr th {\n",
       "        vertical-align: top;\n",
       "    }\n",
       "\n",
       "    .dataframe thead th {\n",
       "        text-align: right;\n",
       "    }\n",
       "</style>\n",
       "<table border=\"1\" class=\"dataframe\">\n",
       "  <thead>\n",
       "    <tr style=\"text-align: right;\">\n",
       "      <th></th>\n",
       "      <th>HastaNo</th>\n",
       "      <th>Yas</th>\n",
       "      <th>Cinsiyet</th>\n",
       "      <th>KanGrubu</th>\n",
       "      <th>Uyruk</th>\n",
       "      <th>KronikHastalik</th>\n",
       "      <th>Bolum</th>\n",
       "      <th>Alerji</th>\n",
       "      <th>Tanilar</th>\n",
       "      <th>TedaviAdi</th>\n",
       "      <th>TedaviSuresi</th>\n",
       "      <th>UygulamaYerleri</th>\n",
       "      <th>UygulamaSuresi</th>\n",
       "    </tr>\n",
       "  </thead>\n",
       "  <tbody>\n",
       "    <tr>\n",
       "      <th>2230</th>\n",
       "      <td>145536</td>\n",
       "      <td>48</td>\n",
       "      <td>Erkek</td>\n",
       "      <td>NaN</td>\n",
       "      <td>Türkiye</td>\n",
       "      <td>Aritmi, Myastenia gravis, Fascioscapulohumeral...</td>\n",
       "      <td>Fiziksel Tıp Ve Rehabilitasyon,Solunum Merkezi</td>\n",
       "      <td>ARVELES,CORASPIN</td>\n",
       "      <td>Eklemin kontraktürü</td>\n",
       "      <td>Ekstansör tendon Rehabilitasyon</td>\n",
       "      <td>15 Seans</td>\n",
       "      <td>Sol El Bilek Bölgesi</td>\n",
       "      <td>10 Dakika</td>\n",
       "    </tr>\n",
       "    <tr>\n",
       "      <th>2231</th>\n",
       "      <td>145536</td>\n",
       "      <td>48</td>\n",
       "      <td>Erkek</td>\n",
       "      <td>NaN</td>\n",
       "      <td>Türkiye</td>\n",
       "      <td>Aritmi, Myastenia gravis, Fascioscapulohumeral...</td>\n",
       "      <td>Fiziksel Tıp Ve Rehabilitasyon,Solunum Merkezi</td>\n",
       "      <td>ARVELES,CORASPIN</td>\n",
       "      <td>Eklemin kontraktürü</td>\n",
       "      <td>Ekstansör tendon Rehabilitasyon</td>\n",
       "      <td>15 Seans</td>\n",
       "      <td>Sol El Bilek Bölgesi</td>\n",
       "      <td>20 Dakika</td>\n",
       "    </tr>\n",
       "    <tr>\n",
       "      <th>2232</th>\n",
       "      <td>145537</td>\n",
       "      <td>33</td>\n",
       "      <td>Kadın</td>\n",
       "      <td>A Rh+</td>\n",
       "      <td>Türkiye</td>\n",
       "      <td>NaN</td>\n",
       "      <td>Fiziksel Tıp Ve Rehabilitasyon,Solunum Merkezi</td>\n",
       "      <td>Sucuk</td>\n",
       "      <td>Aşil tendon yaralanması,​Algonörodistrofi,​ ay...</td>\n",
       "      <td>Aşil Rüptürü Rehabilitasyonu</td>\n",
       "      <td>15 Seans</td>\n",
       "      <td>Sol Ayak Bileği Bölgesi</td>\n",
       "      <td>20 Dakika</td>\n",
       "    </tr>\n",
       "    <tr>\n",
       "      <th>2233</th>\n",
       "      <td>145537</td>\n",
       "      <td>33</td>\n",
       "      <td>Kadın</td>\n",
       "      <td>A Rh+</td>\n",
       "      <td>Türkiye</td>\n",
       "      <td>NaN</td>\n",
       "      <td>Fiziksel Tıp Ve Rehabilitasyon,Solunum Merkezi</td>\n",
       "      <td>Sucuk</td>\n",
       "      <td>Aşil tendon yaralanması,Algonörodistrofi, ayak...</td>\n",
       "      <td>Aşil Rüptürü Rehabilitasyonu</td>\n",
       "      <td>15 Seans</td>\n",
       "      <td>Sol Ayak Bileği Bölgesi</td>\n",
       "      <td>15 Dakika</td>\n",
       "    </tr>\n",
       "    <tr>\n",
       "      <th>2234</th>\n",
       "      <td>145537</td>\n",
       "      <td>33</td>\n",
       "      <td>Kadın</td>\n",
       "      <td>A Rh+</td>\n",
       "      <td>Türkiye</td>\n",
       "      <td>NaN</td>\n",
       "      <td>Fiziksel Tıp Ve Rehabilitasyon,Solunum Merkezi</td>\n",
       "      <td>Sucuk</td>\n",
       "      <td>Aşil tendon yaralanması,Algonörodistrofi, ayak...</td>\n",
       "      <td>Aşil Rüptürü Rehabilitasyonu</td>\n",
       "      <td>15 Seans</td>\n",
       "      <td>Sol Ayak Bileği Bölgesi</td>\n",
       "      <td>5 Dakika</td>\n",
       "    </tr>\n",
       "  </tbody>\n",
       "</table>\n",
       "</div>"
      ],
      "text/plain": [
       "      HastaNo  Yas Cinsiyet KanGrubu    Uyruk  \\\n",
       "2230   145536   48    Erkek      NaN  Türkiye   \n",
       "2231   145536   48    Erkek      NaN  Türkiye   \n",
       "2232   145537   33    Kadın    A Rh+  Türkiye   \n",
       "2233   145537   33    Kadın    A Rh+  Türkiye   \n",
       "2234   145537   33    Kadın    A Rh+  Türkiye   \n",
       "\n",
       "                                         KronikHastalik  \\\n",
       "2230  Aritmi, Myastenia gravis, Fascioscapulohumeral...   \n",
       "2231  Aritmi, Myastenia gravis, Fascioscapulohumeral...   \n",
       "2232                                                NaN   \n",
       "2233                                                NaN   \n",
       "2234                                                NaN   \n",
       "\n",
       "                                               Bolum            Alerji  \\\n",
       "2230  Fiziksel Tıp Ve Rehabilitasyon,Solunum Merkezi  ARVELES,CORASPIN   \n",
       "2231  Fiziksel Tıp Ve Rehabilitasyon,Solunum Merkezi  ARVELES,CORASPIN   \n",
       "2232  Fiziksel Tıp Ve Rehabilitasyon,Solunum Merkezi             Sucuk   \n",
       "2233  Fiziksel Tıp Ve Rehabilitasyon,Solunum Merkezi             Sucuk   \n",
       "2234  Fiziksel Tıp Ve Rehabilitasyon,Solunum Merkezi             Sucuk   \n",
       "\n",
       "                                                Tanilar  \\\n",
       "2230                                Eklemin kontraktürü   \n",
       "2231                                Eklemin kontraktürü   \n",
       "2232  Aşil tendon yaralanması,​Algonörodistrofi,​ ay...   \n",
       "2233  Aşil tendon yaralanması,Algonörodistrofi, ayak...   \n",
       "2234  Aşil tendon yaralanması,Algonörodistrofi, ayak...   \n",
       "\n",
       "                             TedaviAdi TedaviSuresi          UygulamaYerleri  \\\n",
       "2230  Ekstansör tendon Rehabilitasyon      15 Seans     Sol El Bilek Bölgesi   \n",
       "2231  Ekstansör tendon Rehabilitasyon      15 Seans     Sol El Bilek Bölgesi   \n",
       "2232      Aşil Rüptürü Rehabilitasyonu     15 Seans  Sol Ayak Bileği Bölgesi   \n",
       "2233      Aşil Rüptürü Rehabilitasyonu     15 Seans  Sol Ayak Bileği Bölgesi   \n",
       "2234      Aşil Rüptürü Rehabilitasyonu     15 Seans  Sol Ayak Bileği Bölgesi   \n",
       "\n",
       "     UygulamaSuresi  \n",
       "2230      10 Dakika  \n",
       "2231      20 Dakika  \n",
       "2232      20 Dakika  \n",
       "2233      15 Dakika  \n",
       "2234       5 Dakika  "
      ]
     },
     "execution_count": 12,
     "metadata": {},
     "output_type": "execute_result"
    }
   ],
   "source": [
    "# Last 5 rows\n",
    "df.tail()"
   ]
  },
  {
   "cell_type": "markdown",
   "id": "6a9dc57f-07a4-44b4-a954-8ac889c9824e",
   "metadata": {},
   "source": [
    "# Sanity Check of Data"
   ]
  },
  {
   "cell_type": "code",
   "execution_count": 25,
   "id": "71c622e3-95e7-4ffc-89b6-622494a546c6",
   "metadata": {},
   "outputs": [
    {
     "data": {
      "text/plain": [
       "(2235, 13)"
      ]
     },
     "execution_count": 25,
     "metadata": {},
     "output_type": "execute_result"
    }
   ],
   "source": [
    "df.shape # 2235 rows, 13 cols"
   ]
  },
  {
   "cell_type": "code",
   "execution_count": 23,
   "id": "beece4a9-1275-42ff-a81d-961ba47c1f3c",
   "metadata": {},
   "outputs": [
    {
     "name": "stdout",
     "output_type": "stream",
     "text": [
      "<class 'pandas.core.frame.DataFrame'>\n",
      "RangeIndex: 2235 entries, 0 to 2234\n",
      "Data columns (total 13 columns):\n",
      " #   Column           Non-Null Count  Dtype \n",
      "---  ------           --------------  ----- \n",
      " 0   HastaNo          2235 non-null   int64 \n",
      " 1   Yas              2235 non-null   int64 \n",
      " 2   Cinsiyet         2066 non-null   object\n",
      " 3   KanGrubu         1560 non-null   object\n",
      " 4   Uyruk            2235 non-null   object\n",
      " 5   KronikHastalik   1624 non-null   object\n",
      " 6   Bolum            2224 non-null   object\n",
      " 7   Alerji           1291 non-null   object\n",
      " 8   Tanilar          2160 non-null   object\n",
      " 9   TedaviAdi        2235 non-null   object\n",
      " 10  TedaviSuresi     2235 non-null   object\n",
      " 11  UygulamaYerleri  2014 non-null   object\n",
      " 12  UygulamaSuresi   2235 non-null   object\n",
      "dtypes: int64(2), object(11)\n",
      "memory usage: 227.1+ KB\n"
     ]
    }
   ],
   "source": [
    "df.info() # Information of data"
   ]
  },
  {
   "cell_type": "code",
   "execution_count": 29,
   "id": "6aa8cfb0-0aa7-41e2-8a4c-8293680db077",
   "metadata": {},
   "outputs": [
    {
     "data": {
      "text/plain": [
       "HastaNo              0\n",
       "Yas                  0\n",
       "Cinsiyet           169\n",
       "KanGrubu           675\n",
       "Uyruk                0\n",
       "KronikHastalik     611\n",
       "Bolum               11\n",
       "Alerji             944\n",
       "Tanilar             75\n",
       "TedaviAdi            0\n",
       "TedaviSuresi         0\n",
       "UygulamaYerleri    221\n",
       "UygulamaSuresi       0\n",
       "dtype: int64"
      ]
     },
     "execution_count": 29,
     "metadata": {},
     "output_type": "execute_result"
    }
   ],
   "source": [
    "# finding missing value\n",
    "df.isnull().sum()"
   ]
  },
  {
   "cell_type": "code",
   "execution_count": 33,
   "id": "46b48be4-674e-4496-99a1-915a3ebf6a4f",
   "metadata": {},
   "outputs": [
    {
     "data": {
      "text/plain": [
       "HastaNo             0.000000\n",
       "Yas                 0.000000\n",
       "Cinsiyet            7.561521\n",
       "KanGrubu           30.201342\n",
       "Uyruk               0.000000\n",
       "KronikHastalik     27.337808\n",
       "Bolum               0.492170\n",
       "Alerji             42.237136\n",
       "Tanilar             3.355705\n",
       "TedaviAdi           0.000000\n",
       "TedaviSuresi        0.000000\n",
       "UygulamaYerleri     9.888143\n",
       "UygulamaSuresi      0.000000\n",
       "dtype: float64"
      ]
     },
     "execution_count": 33,
     "metadata": {},
     "output_type": "execute_result"
    }
   ],
   "source": [
    "# Finding percentage of missing value\n",
    "df.isnull().sum() / df.shape[0] * 100"
   ]
  },
  {
   "cell_type": "code",
   "execution_count": 49,
   "id": "996f003c-b0e6-4877-8950-36f0a28485c1",
   "metadata": {},
   "outputs": [
    {
     "name": "stdout",
     "output_type": "stream",
     "text": [
      "928\n"
     ]
    }
   ],
   "source": [
    "# Finding Duplicates\n",
    "print(df.duplicated().sum())"
   ]
  },
  {
   "cell_type": "code",
   "execution_count": 51,
   "id": "69c45ea3-3b07-4539-9020-d2a1a5f74023",
   "metadata": {},
   "outputs": [
    {
     "name": "stdout",
     "output_type": "stream",
     "text": [
      "Cinsiyet\n",
      "Kadın    1274\n",
      "Erkek     792\n",
      "Name: count, dtype: int64\n",
      "****************************************\n",
      "KanGrubu\n",
      "0 Rh+     579\n",
      "A Rh+     540\n",
      "B Rh+     206\n",
      "AB Rh+     80\n",
      "B Rh-      68\n",
      "A Rh-      53\n",
      "0 Rh-      26\n",
      "AB Rh-      8\n",
      "Name: count, dtype: int64\n",
      "****************************************\n",
      "Uyruk\n",
      "Türkiye       2173\n",
      "Tokelau         27\n",
      "Arnavutluk      13\n",
      "Azerbaycan      12\n",
      "Libya           10\n",
      "Name: count, dtype: int64\n",
      "****************************************\n",
      "KronikHastalik\n",
      "Myastenia gravis                                                                38\n",
      "Aritmi                                                                          36\n",
      "Fascioscapulohumeral Distrofi                                                   36\n",
      "Hipertiroidizm                                                                  34\n",
      "Limb-Girdle Musküler Distrofi, Astım                                            34\n",
      "                                                                                ..\n",
      "Aritmi, Diyabet, Kalp yetmezliği, Hiportiroidizm                                 1\n",
      "Fascioscapulohumeral Distrofi, Hiportiroidizm, Limb-Girdle Musküler Distrofi     1\n",
      "Fascioscapulohumeral Distrofi, Myastenia gravis                                  1\n",
      "Polimiyozit, Diyabet, Becker Musküler Distrofisi                                 1\n",
      "Becker Musküler Distrofisi, Hiportiroidizm, Kalp yetmezliği                      1\n",
      "Name: count, Length: 220, dtype: int64\n",
      "****************************************\n",
      "Bolum\n",
      "Fiziksel Tıp Ve Rehabilitasyon,Solunum Merkezi    2045\n",
      "Ortopedi Ve Travmatoloji                            88\n",
      "İç Hastalıkları                                     32\n",
      "Nöroloji                                            17\n",
      "Kardiyoloji                                         11\n",
      "Göğüs Hastalıkları                                   8\n",
      "Laboratuar                                           7\n",
      "Genel Cerrahi                                        6\n",
      "Tıbbi Onkoloji                                       6\n",
      "Kalp Ve Damar Cerrahisi                              4\n",
      "Name: count, dtype: int64\n",
      "****************************************\n",
      "Alerji\n",
      "Polen                198\n",
      "POLEN                134\n",
      "Toz                  119\n",
      "ARVELES,CORASPIN     102\n",
      "Sucuk                 91\n",
      "NOVALGIN              90\n",
      "Polen,Yer Fıstığı     83\n",
      "TOZ                   74\n",
      "SUCUK                 73\n",
      "Novalgin              49\n",
      "GRİPİN                47\n",
      "Volteren              30\n",
      "Voltaren              26\n",
      "GRIPIN                22\n",
      "VOLTAREN              19\n",
      "POLEN,TOZ             13\n",
      "VOLTAREN,Polen        11\n",
      "Toz,TOZ                9\n",
      "TOZ,Novalgin           7\n",
      "Polen,NOVALGIN         7\n",
      "Novalgin,Polen         6\n",
      "TOZ,VOLTAREN           5\n",
      "Voltaren,POLEN         5\n",
      "Polen,GRIPIN           5\n",
      "POLEN,Voltaren         5\n",
      "NOVALGIN,Polen         5\n",
      "VOLTAREN,POLEN         5\n",
      "Volteren,GRİPİN        5\n",
      "TOZ,POLEN              5\n",
      "Polen,TOZ              5\n",
      "Novalgin,Sucuk         5\n",
      "SUCUK,GRIPIN           5\n",
      "NOVALGIN,Novalgin      5\n",
      "Polen,Toz              5\n",
      "VOLTAREN,Toz           5\n",
      "Polen,Voltaren         5\n",
      "TOZ,GRİPİN             3\n",
      "POLEN,NOVALGIN         3\n",
      "Name: count, dtype: int64\n",
      "****************************************\n",
      "Tanilar\n",
      "DORSALJİ, DİĞER, LUMBOSAKRAL BÖLGE                                                                        149\n",
      "Omuzun darbe sendromu                                                                                     128\n",
      "İntervertebral disk bozuklukları, tanımlanmamış                                                           116\n",
      "DORSALJİ, DİĞER, SERVİKOTORASİK BÖLGE                                                                      96\n",
      "Eklem ağrısı                                                                                               51\n",
      "                                                                                                         ... \n",
      "Fibromiyalji , birden fazla yer,DORSALJİ, DİĞER, SERVİKOTORASİK BÖLGE                                       1\n",
      "İntervertebral disk bozuklukları, tanımlanmamış                                                             1\n",
      "İntervertebral disk bozuklukları,,  tanımlanmamış                                                           1\n",
      "Spinal stenoz ,İntervertebral disk bozuklukları, diğer                                                      1\n",
      " Ekstremite ağrısı, bacak,Spondilolistezis,Omuzun darbe sendromu,DORSALJİ, DİĞER, SERVİKOTORASİK BÖLGE      1\n",
      "Name: count, Length: 367, dtype: int64\n",
      "****************************************\n",
      "TedaviAdi\n",
      "Dorsalji -Boyun+trapez        231\n",
      "İV DİSK BOZUKLUĞU-BEL         200\n",
      "Dorsalji 1                    140\n",
      "Dorsalji-Bel                  120\n",
      "Gonartroz-Meniskopati          95\n",
      "                             ... \n",
      "Sol  ÖÇB Rehabilitasyonu-1      1\n",
      "Aşil Tendiniti sol-1            1\n",
      "Spinal manüpilasyon             1\n",
      "İmpingement op izometrik        1\n",
      "Ayak Bileği                     1\n",
      "Name: count, Length: 244, dtype: int64\n",
      "****************************************\n",
      "TedaviSuresi\n",
      "15 Seans    1670\n",
      "10 Seans     175\n",
      "20 Seans     113\n",
      "2 Seans       45\n",
      "17 Seans      36\n",
      "4 Seans       35\n",
      "16 Seans      27\n",
      "21 Seans      20\n",
      "18 Seans      20\n",
      "5 Seans       17\n",
      "30 Seans      12\n",
      "19 Seans      10\n",
      "11 Seans       9\n",
      "3 Seans        7\n",
      "8 Seans        6\n",
      "7 Seans        5\n",
      "29 Seans       5\n",
      "25 Seans       5\n",
      "22 Seans       5\n",
      "37 Seans       5\n",
      "1 Seans        3\n",
      "6 Seans        3\n",
      "14 Seans       2\n",
      "Name: count, dtype: int64\n",
      "****************************************\n",
      "UygulamaYerleri\n",
      "Bel                                                528\n",
      "Boyun                                              363\n",
      "Diz                                                177\n",
      "Sol Omuz Bölgesi                                   137\n",
      "Sağ Omuz Bölgesi                                   127\n",
      "Sol El Bilek Bölgesi                                83\n",
      "Sırt                                                75\n",
      "Sağ Ayak Bileği Bölgesi                             61\n",
      "Tüm Vücut Bölgesi                                   58\n",
      "Sol Ayak Bileği Bölgesi                             58\n",
      "Sol Diz Bölgesi                                     49\n",
      "Sağ El Bilek Bölgesi                                47\n",
      "Sol Kalça Bölgesi                                   30\n",
      "Sağ Diz Bölgesi                                     29\n",
      "Sağ Kalça Bölgesi                                   29\n",
      "Kalça                                               28\n",
      "Sağ Kalça Bölgesi,Sol Kalça Bölgesi                 17\n",
      "Dirsek                                              14\n",
      "Yüz                                                 13\n",
      "Boyun,El Bilek                                      12\n",
      "Boyun,Sırt                                          11\n",
      "Omuz                                                10\n",
      "Sırt,Bel                                             9\n",
      "Ayak Bileği                                          8\n",
      "Sol Dirsek Bölgesi                                   8\n",
      "Sağ Ayak Bileği Bölgesi,Sol Ayak Bileği Bölgesi      7\n",
      "Sağ Dirsek Bölgesi                                   7\n",
      "Bel,Tüm Vücut Bölgesi                                4\n",
      "Sağ Diz Bölgesi,Sol Diz Bölgesi                      3\n",
      "Sol Dirsek Bölgesi,Sol El Bilek Bölgesi              2\n",
      "Sağ Omuz Bölgesi,Sol Omuz Bölgesi                    2\n",
      "Sağ Omuz Bölgesi,Sağ El Bilek Bölgesi                2\n",
      "Boyun,Bel                                            2\n",
      "El Bilek                                             1\n",
      "Sağ Omuz Bölgesi,Sağ Kalça Bölgesi                   1\n",
      "Sol Omuz Bölgesi,Sol El Bilek Bölgesi                1\n",
      "Sırt,Omuz                                            1\n",
      "Name: count, dtype: int64\n",
      "****************************************\n",
      "UygulamaSuresi\n",
      "20 Dakika    1535\n",
      "5 Dakika      360\n",
      "10 Dakika     221\n",
      "15 Dakika      89\n",
      "30 Dakika      11\n",
      "45 Dakika      10\n",
      "25 Dakika       5\n",
      "40 Dakika       2\n",
      "3 Dakika        1\n",
      "8 Dakika        1\n",
      "Name: count, dtype: int64\n",
      "****************************************\n"
     ]
    }
   ],
   "source": [
    "# Finding garbage value\n",
    "for idx in df.select_dtypes(include=['object']).columns:\n",
    "    print(df[idx].value_counts())\n",
    "    print(\"****\"*10)"
   ]
  },
  {
   "cell_type": "markdown",
   "id": "a2af570e-2d24-4bbd-a695-87eff6cef103",
   "metadata": {},
   "source": [
    "# Exploratory Data Analysis (EDA)"
   ]
  },
  {
   "cell_type": "code",
   "execution_count": 56,
   "id": "5998d3ea-2ef1-4acc-b0f4-dd6b1d9d9e30",
   "metadata": {},
   "outputs": [
    {
     "data": {
      "text/html": [
       "<div>\n",
       "<style scoped>\n",
       "    .dataframe tbody tr th:only-of-type {\n",
       "        vertical-align: middle;\n",
       "    }\n",
       "\n",
       "    .dataframe tbody tr th {\n",
       "        vertical-align: top;\n",
       "    }\n",
       "\n",
       "    .dataframe thead th {\n",
       "        text-align: right;\n",
       "    }\n",
       "</style>\n",
       "<table border=\"1\" class=\"dataframe\">\n",
       "  <thead>\n",
       "    <tr style=\"text-align: right;\">\n",
       "      <th></th>\n",
       "      <th>count</th>\n",
       "      <th>mean</th>\n",
       "      <th>std</th>\n",
       "      <th>min</th>\n",
       "      <th>25%</th>\n",
       "      <th>50%</th>\n",
       "      <th>75%</th>\n",
       "      <th>max</th>\n",
       "    </tr>\n",
       "  </thead>\n",
       "  <tbody>\n",
       "    <tr>\n",
       "      <th>HastaNo</th>\n",
       "      <td>2235.0</td>\n",
       "      <td>145333.100224</td>\n",
       "      <td>115.214248</td>\n",
       "      <td>145134.0</td>\n",
       "      <td>145235.0</td>\n",
       "      <td>145331.0</td>\n",
       "      <td>145432.0</td>\n",
       "      <td>145537.0</td>\n",
       "    </tr>\n",
       "    <tr>\n",
       "      <th>Yas</th>\n",
       "      <td>2235.0</td>\n",
       "      <td>47.327069</td>\n",
       "      <td>15.208634</td>\n",
       "      <td>2.0</td>\n",
       "      <td>38.0</td>\n",
       "      <td>46.0</td>\n",
       "      <td>56.0</td>\n",
       "      <td>92.0</td>\n",
       "    </tr>\n",
       "  </tbody>\n",
       "</table>\n",
       "</div>"
      ],
      "text/plain": [
       "          count           mean         std       min       25%       50%  \\\n",
       "HastaNo  2235.0  145333.100224  115.214248  145134.0  145235.0  145331.0   \n",
       "Yas      2235.0      47.327069   15.208634       2.0      38.0      46.0   \n",
       "\n",
       "              75%       max  \n",
       "HastaNo  145432.0  145537.0  \n",
       "Yas          56.0      92.0  "
      ]
     },
     "execution_count": 56,
     "metadata": {},
     "output_type": "execute_result"
    }
   ],
   "source": [
    "df.describe().T"
   ]
  },
  {
   "cell_type": "code",
   "execution_count": 58,
   "id": "f576792f-4719-4158-b07e-62603f698e74",
   "metadata": {},
   "outputs": [
    {
     "data": {
      "text/html": [
       "<div>\n",
       "<style scoped>\n",
       "    .dataframe tbody tr th:only-of-type {\n",
       "        vertical-align: middle;\n",
       "    }\n",
       "\n",
       "    .dataframe tbody tr th {\n",
       "        vertical-align: top;\n",
       "    }\n",
       "\n",
       "    .dataframe thead th {\n",
       "        text-align: right;\n",
       "    }\n",
       "</style>\n",
       "<table border=\"1\" class=\"dataframe\">\n",
       "  <thead>\n",
       "    <tr style=\"text-align: right;\">\n",
       "      <th></th>\n",
       "      <th>Cinsiyet</th>\n",
       "      <th>KanGrubu</th>\n",
       "      <th>Uyruk</th>\n",
       "      <th>KronikHastalik</th>\n",
       "      <th>Bolum</th>\n",
       "      <th>Alerji</th>\n",
       "      <th>Tanilar</th>\n",
       "      <th>TedaviAdi</th>\n",
       "      <th>TedaviSuresi</th>\n",
       "      <th>UygulamaYerleri</th>\n",
       "      <th>UygulamaSuresi</th>\n",
       "    </tr>\n",
       "  </thead>\n",
       "  <tbody>\n",
       "    <tr>\n",
       "      <th>count</th>\n",
       "      <td>2066</td>\n",
       "      <td>1560</td>\n",
       "      <td>2235</td>\n",
       "      <td>1624</td>\n",
       "      <td>2224</td>\n",
       "      <td>1291</td>\n",
       "      <td>2160</td>\n",
       "      <td>2235</td>\n",
       "      <td>2235</td>\n",
       "      <td>2014</td>\n",
       "      <td>2235</td>\n",
       "    </tr>\n",
       "    <tr>\n",
       "      <th>unique</th>\n",
       "      <td>2</td>\n",
       "      <td>8</td>\n",
       "      <td>5</td>\n",
       "      <td>220</td>\n",
       "      <td>10</td>\n",
       "      <td>38</td>\n",
       "      <td>367</td>\n",
       "      <td>244</td>\n",
       "      <td>23</td>\n",
       "      <td>37</td>\n",
       "      <td>10</td>\n",
       "    </tr>\n",
       "    <tr>\n",
       "      <th>top</th>\n",
       "      <td>Kadın</td>\n",
       "      <td>0 Rh+</td>\n",
       "      <td>Türkiye</td>\n",
       "      <td>Myastenia gravis</td>\n",
       "      <td>Fiziksel Tıp Ve Rehabilitasyon,Solunum Merkezi</td>\n",
       "      <td>Polen</td>\n",
       "      <td>DORSALJİ, DİĞER, LUMBOSAKRAL BÖLGE</td>\n",
       "      <td>Dorsalji -Boyun+trapez</td>\n",
       "      <td>15 Seans</td>\n",
       "      <td>Bel</td>\n",
       "      <td>20 Dakika</td>\n",
       "    </tr>\n",
       "    <tr>\n",
       "      <th>freq</th>\n",
       "      <td>1274</td>\n",
       "      <td>579</td>\n",
       "      <td>2173</td>\n",
       "      <td>38</td>\n",
       "      <td>2045</td>\n",
       "      <td>198</td>\n",
       "      <td>149</td>\n",
       "      <td>231</td>\n",
       "      <td>1670</td>\n",
       "      <td>528</td>\n",
       "      <td>1535</td>\n",
       "    </tr>\n",
       "  </tbody>\n",
       "</table>\n",
       "</div>"
      ],
      "text/plain": [
       "       Cinsiyet KanGrubu    Uyruk    KronikHastalik  \\\n",
       "count      2066     1560     2235              1624   \n",
       "unique        2        8        5               220   \n",
       "top       Kadın    0 Rh+  Türkiye  Myastenia gravis   \n",
       "freq       1274      579     2173                38   \n",
       "\n",
       "                                                 Bolum Alerji  \\\n",
       "count                                             2224   1291   \n",
       "unique                                              10     38   \n",
       "top     Fiziksel Tıp Ve Rehabilitasyon,Solunum Merkezi  Polen   \n",
       "freq                                              2045    198   \n",
       "\n",
       "                                   Tanilar               TedaviAdi  \\\n",
       "count                                 2160                    2235   \n",
       "unique                                 367                     244   \n",
       "top     DORSALJİ, DİĞER, LUMBOSAKRAL BÖLGE  Dorsalji -Boyun+trapez   \n",
       "freq                                   149                     231   \n",
       "\n",
       "       TedaviSuresi UygulamaYerleri UygulamaSuresi  \n",
       "count          2235            2014           2235  \n",
       "unique           23              37             10  \n",
       "top        15 Seans             Bel      20 Dakika  \n",
       "freq           1670             528           1535  "
      ]
     },
     "execution_count": 58,
     "metadata": {},
     "output_type": "execute_result"
    }
   ],
   "source": [
    "df.describe(include=['object'])"
   ]
  },
  {
   "cell_type": "code",
   "execution_count": 66,
   "id": "ec332d58-fdc0-462e-a49f-1836c224bbd0",
   "metadata": {},
   "outputs": [
    {
     "data": {
      "image/png": "[encoded data removed]",
      "text/plain": [
       "<Figure size 640x480 with 1 Axes>"
      ]
     },
     "metadata": {},
     "output_type": "display_data"
    },
    {
     "data": {
      "image/png": "[encoded data removed]",
      "text/plain": [
       "<Figure size 640x480 with 1 Axes>"
      ]
     },
     "metadata": {},
     "output_type": "display_data"
    }
   ],
   "source": [
    "# Histogram to Understand the distribution\n",
    "for idx in df.select_dtypes(include=['number']).columns:\n",
    "    sns.histplot(data=df, x=idx)\n",
    "    plt.show()"
   ]
  },
  {
   "cell_type": "code",
   "execution_count": 70,
   "id": "13b5a3ad-6cdf-4986-9242-8b4db56c9ea3",
   "metadata": {},
   "outputs": [
    {
     "data": {
      "image/png": "[encoded data removed]",
      "text/plain": [
       "<Figure size 640x480 with 1 Axes>"
      ]
     },
     "metadata": {},
     "output_type": "display_data"
    },
    {
     "data": {
      "image/png": "[encoded data removed]",
      "text/plain": [
       "<Figure size 640x480 with 1 Axes>"
      ]
     },
     "metadata": {},
     "output_type": "display_data"
    }
   ],
   "source": [
    "# Boxplot to identify outliers\n",
    "for idx in df.select_dtypes(include=['number']).columns:\n",
    "    sns.boxplot(data=df, x=idx)\n",
    "    plt.show()"
   ]
  },
  {
   "cell_type": "code",
   "execution_count": 74,
   "id": "ea8c2fdd-1338-4e44-bf7d-2396111c40ba",
   "metadata": {},
   "outputs": [
    {
     "data": {
      "text/html": [
       "<div>\n",
       "<style scoped>\n",
       "    .dataframe tbody tr th:only-of-type {\n",
       "        vertical-align: middle;\n",
       "    }\n",
       "\n",
       "    .dataframe tbody tr th {\n",
       "        vertical-align: top;\n",
       "    }\n",
       "\n",
       "    .dataframe thead th {\n",
       "        text-align: right;\n",
       "    }\n",
       "</style>\n",
       "<table border=\"1\" class=\"dataframe\">\n",
       "  <thead>\n",
       "    <tr style=\"text-align: right;\">\n",
       "      <th></th>\n",
       "      <th>Cinsiyet</th>\n",
       "      <th>KanGrubu</th>\n",
       "      <th>Uyruk</th>\n",
       "      <th>KronikHastalik</th>\n",
       "      <th>Bolum</th>\n",
       "      <th>Alerji</th>\n",
       "      <th>Tanilar</th>\n",
       "      <th>TedaviAdi</th>\n",
       "      <th>TedaviSuresi</th>\n",
       "      <th>UygulamaYerleri</th>\n",
       "      <th>UygulamaSuresi</th>\n",
       "    </tr>\n",
       "  </thead>\n",
       "  <tbody>\n",
       "    <tr>\n",
       "      <th>0</th>\n",
       "      <td>Kadın</td>\n",
       "      <td>0 Rh+</td>\n",
       "      <td>Türkiye</td>\n",
       "      <td>Becker Musküler Distrofisi, Hiportiroidizm, Ka...</td>\n",
       "      <td>Fiziksel Tıp Ve Rehabilitasyon,Solunum Merkezi</td>\n",
       "      <td>TOZ</td>\n",
       "      <td>Ayak bileği ve ayağın yüzeysel yaralanması</td>\n",
       "      <td>Ayak Bileği</td>\n",
       "      <td>5 Seans</td>\n",
       "      <td>Ayak Bileği</td>\n",
       "      <td>20 Dakika</td>\n",
       "    </tr>\n",
       "    <tr>\n",
       "      <th>1</th>\n",
       "      <td>Erkek</td>\n",
       "      <td>0 Rh+</td>\n",
       "      <td>Türkiye</td>\n",
       "      <td>Duchenne Musküler Distrofisi, Myastenia gravis...</td>\n",
       "      <td>Fiziksel Tıp Ve Rehabilitasyon,Solunum Merkezi</td>\n",
       "      <td>NaN</td>\n",
       "      <td>Omuzun darbe sendromu,DORSALJİ, DİĞER, SERVİKO...</td>\n",
       "      <td>Dorsalji -Boyun+trapez+skapular</td>\n",
       "      <td>15 Seans</td>\n",
       "      <td>Boyun</td>\n",
       "      <td>20 Dakika</td>\n",
       "    </tr>\n",
       "  </tbody>\n",
       "</table>\n",
       "</div>"
      ],
      "text/plain": [
       "  Cinsiyet KanGrubu    Uyruk  \\\n",
       "0    Kadın    0 Rh+  Türkiye   \n",
       "1    Erkek    0 Rh+  Türkiye   \n",
       "\n",
       "                                      KronikHastalik  \\\n",
       "0  Becker Musküler Distrofisi, Hiportiroidizm, Ka...   \n",
       "1  Duchenne Musküler Distrofisi, Myastenia gravis...   \n",
       "\n",
       "                                            Bolum Alerji  \\\n",
       "0  Fiziksel Tıp Ve Rehabilitasyon,Solunum Merkezi    TOZ   \n",
       "1  Fiziksel Tıp Ve Rehabilitasyon,Solunum Merkezi    NaN   \n",
       "\n",
       "                                             Tanilar  \\\n",
       "0         Ayak bileği ve ayağın yüzeysel yaralanması   \n",
       "1  Omuzun darbe sendromu,DORSALJİ, DİĞER, SERVİKO...   \n",
       "\n",
       "                         TedaviAdi TedaviSuresi UygulamaYerleri UygulamaSuresi  \n",
       "0                      Ayak Bileği      5 Seans     Ayak Bileği      20 Dakika  \n",
       "1  Dorsalji -Boyun+trapez+skapular     15 Seans           Boyun      20 Dakika  "
      ]
     },
     "execution_count": 74,
     "metadata": {},
     "output_type": "execute_result"
    }
   ],
   "source": [
    "# Scatter plot the understand the relationship\n",
    "# Copy only categorical values\n",
    "ds_cat = df.select_dtypes(include='object').copy()\n",
    "ds_cat.head(2)"
   ]
  },
  {
   "cell_type": "code",
   "execution_count": 78,
   "id": "e07e20ad-b306-4fe8-b865-6732b32e8acd",
   "metadata": {},
   "outputs": [
    {
     "data": {
      "text/plain": [
       "array(['5 Seans', '15 Seans', '10 Seans', '18 Seans', '20 Seans',\n",
       "       '2 Seans', '6 Seans', '4 Seans', '30 Seans', '11 Seans',\n",
       "       '16 Seans', '21 Seans', '1 Seans', '8 Seans', '3 Seans', '7 Seans',\n",
       "       '19 Seans', '29 Seans', '14 Seans', '17 Seans', '25 Seans',\n",
       "       '22 Seans', '37 Seans'], dtype=object)"
      ]
     },
     "execution_count": 78,
     "metadata": {},
     "output_type": "execute_result"
    }
   ],
   "source": [
    "# Differenct values of target value\n",
    "ds_cat['TedaviSuresi'].unique()"
   ]
  },
  {
   "cell_type": "code",
   "execution_count": 84,
   "id": "b2811374-099c-4d4c-a86a-289190ee4ed1",
   "metadata": {},
   "outputs": [
    {
     "data": {
      "text/plain": [
       "23"
      ]
     },
     "execution_count": 84,
     "metadata": {},
     "output_type": "execute_result"
    }
   ],
   "source": [
    "ds_cat['TedaviSuresi'].nunique()"
   ]
  },
  {
   "cell_type": "code",
   "execution_count": 88,
   "id": "b928bfc6-4e9f-445c-88bd-8337c0261810",
   "metadata": {},
   "outputs": [
    {
     "name": "stdout",
     "output_type": "stream",
     "text": [
      "0\n"
     ]
    }
   ],
   "source": [
    "print(ds_cat['TedaviSuresi'].isnull().sum())"
   ]
  },
  {
   "cell_type": "code",
   "execution_count": 100,
   "id": "5034d282-5b1e-49e3-8f48-513849ddf29c",
   "metadata": {},
   "outputs": [
    {
     "data": {
      "image/png": "[encoded data removed]",
      "text/plain": [
       "<Figure size 640x480 with 1 Axes>"
      ]
     },
     "metadata": {},
     "output_type": "display_data"
    }
   ],
   "source": [
    "# Frequency Distribution of Target Value\n",
    "sns.countplot(data=ds_cat, x=ds_cat['TedaviSuresi'].str.replace('seans', '', case=False))\n",
    "plt.xlabel('Treatment Duration')\n",
    "plt.ylabel('Counts')\n",
    "plt.show()"
   ]
  },
  {
   "cell_type": "code",
   "execution_count": 126,
   "id": "c4e85278-ddb4-4d81-8f1b-a63dfe14806e",
   "metadata": {},
   "outputs": [
    {
     "name": "stdout",
     "output_type": "stream",
     "text": [
      "0        5.0\n",
      "1       15.0\n",
      "2       15.0\n",
      "3       15.0\n",
      "4       15.0\n",
      "        ... \n",
      "2230    15.0\n",
      "2231    15.0\n",
      "2232    15.0\n",
      "2233    15.0\n",
      "2234    15.0\n",
      "Name: TedaviSuresi, Length: 2235, dtype: float64\n",
      "**************************************************\n",
      "0       20.0\n",
      "1       20.0\n",
      "2       20.0\n",
      "3        5.0\n",
      "4       20.0\n",
      "        ... \n",
      "2230    10.0\n",
      "2231    20.0\n",
      "2232    20.0\n",
      "2233    15.0\n",
      "2234     5.0\n",
      "Name: UygulamaSuresi, Length: 2235, dtype: float64\n"
     ]
    }
   ],
   "source": [
    "df[\"TedaviSuresi\"] = df[\"TedaviSuresi\"].astype(str).str.extract(r\"(\\d+)\").astype(float)\n",
    "df[\"UygulamaSuresi\"] = df[\"UygulamaSuresi\"].astype(str).str.extract(r\"(\\d+)\").astype(float)\n",
    "\n",
    "print(df[\"TedaviSuresi\"])\n",
    "print(\"*****\"*10)\n",
    "print(df[\"UygulamaSuresi\"])"
   ]
  },
  {
   "cell_type": "code",
   "execution_count": 132,
   "id": "81a0f970-b5fa-48c7-8f70-82b126961675",
   "metadata": {},
   "outputs": [
    {
     "data": {
      "image/png": "[encoded data removed]",
      "text/plain": [
       "<Figure size 640x480 with 1 Axes>"
      ]
     },
     "metadata": {},
     "output_type": "display_data"
    }
   ],
   "source": [
    "sns.scatterplot(data=df, x='Yas', y='TedaviSuresi')\n",
    "plt.xlabel('Age')\n",
    "plt.ylabel('Treatment Duration')\n",
    "plt.show()"
   ]
  },
  {
   "cell_type": "code",
   "execution_count": 141,
   "id": "990e2908-0c97-4811-9dfc-6302fc1d7e4c",
   "metadata": {},
   "outputs": [
    {
     "data": {
      "image/png": "[encoded data removed]",
      "text/plain": [
       "<Figure size 640x480 with 1 Axes>"
      ]
     },
     "metadata": {},
     "output_type": "display_data"
    }
   ],
   "source": [
    "sns.violinplot(data=df, x='Cinsiyet', y='TedaviSuresi')\n",
    "plt.xlabel('Gender')\n",
    "plt.ylabel('Treatment Duration')\n",
    "plt.show()"
   ]
  },
  {
   "cell_type": "code",
   "execution_count": 143,
   "id": "a343f030-0380-4df8-bef5-d93cf8f225db",
   "metadata": {},
   "outputs": [
    {
     "data": {
      "image/png": "[encoded data removed]",
      "text/plain": [
       "<Figure size 640x480 with 1 Axes>"
      ]
     },
     "metadata": {},
     "output_type": "display_data"
    }
   ],
   "source": [
    "sns.violinplot(data=df, x='KanGrubu', y='TedaviSuresi')\n",
    "plt.xlabel('Blood Type')\n",
    "plt.ylabel('Treatment Duration')\n",
    "plt.show()"
   ]
  },
  {
   "cell_type": "code",
   "execution_count": null,
   "id": "fcd9722d-952d-4a52-8b32-3bfbee8b1ff4",
   "metadata": {},
   "outputs": [],
   "source": []
  }
 ],
 "metadata": {
  "kernelspec": {
   "display_name": "Python [conda env:case-env]",
   "language": "python",
   "name": "conda-env-case-env-py"
  },
  "language_info": {
   "codemirror_mode": {
    "name": "ipython",
    "version": 3
   },
   "file_extension": ".py",
   "mimetype": "text/x-python",
   "name": "python",
   "nbconvert_exporter": "python",
   "pygments_lexer": "ipython3",
   "version": "3.12.11"
  }
 },
 "nbformat": 4,
 "nbformat_minor": 5
}
